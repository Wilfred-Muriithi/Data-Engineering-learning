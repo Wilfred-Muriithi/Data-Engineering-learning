{
 "cells": [
  {
   "cell_type": "code",
   "execution_count": 11,
   "id": "2b3ab054-ed4d-4fcb-aae8-ce57f76d84c1",
   "metadata": {},
   "outputs": [],
   "source": [
    "import pandas as pd\n",
    "\n",
    "# Load the datasets\n",
    "emissions_df = pd.read_csv('GCB2022v27_MtCO2_flat.csv')\n",
    "per_capita_df = pd.read_csv('GCB2022v27_percapita_flat.csv')\n"
   ]
  },
  {
   "cell_type": "code",
   "execution_count": 12,
   "id": "35adb096",
   "metadata": {},
   "outputs": [
    {
     "name": "stdout",
     "output_type": "stream",
     "text": [
      "       Country ISO 3166-1 alpha-3  Year  Total  Coal  Oil  Gas  Cement  \\\n",
      "0  Afghanistan                AFG  1750    0.0   NaN  NaN  NaN     NaN   \n",
      "1  Afghanistan                AFG  1751    0.0   NaN  NaN  NaN     NaN   \n",
      "2  Afghanistan                AFG  1752    0.0   NaN  NaN  NaN     NaN   \n",
      "3  Afghanistan                AFG  1753    0.0   NaN  NaN  NaN     NaN   \n",
      "4  Afghanistan                AFG  1754    0.0   NaN  NaN  NaN     NaN   \n",
      "\n",
      "   Flaring  Other  Per Capita  \n",
      "0      NaN    NaN         NaN  \n",
      "1      NaN    NaN         NaN  \n",
      "2      NaN    NaN         NaN  \n",
      "3      NaN    NaN         NaN  \n",
      "4      NaN    NaN         NaN  \n"
     ]
    }
   ],
   "source": [
    "# Display the first few rows\n",
    "print(emissions_df.head())\n"
   ]
  },
  {
   "cell_type": "code",
   "execution_count": 13,
   "id": "f9f699e7-a098-4f49-8cec-b8c2d4de1632",
   "metadata": {},
   "outputs": [
    {
     "name": "stdout",
     "output_type": "stream",
     "text": [
      "       Country ISO 3166-1 alpha-3  Year  Total  Coal  Oil  Gas  Cement  \\\n",
      "0  Afghanistan                AFG  1750    NaN   NaN  NaN  NaN     NaN   \n",
      "1  Afghanistan                AFG  1751    NaN   NaN  NaN  NaN     NaN   \n",
      "2  Afghanistan                AFG  1752    NaN   NaN  NaN  NaN     NaN   \n",
      "3  Afghanistan                AFG  1753    NaN   NaN  NaN  NaN     NaN   \n",
      "4  Afghanistan                AFG  1754    NaN   NaN  NaN  NaN     NaN   \n",
      "\n",
      "   Flaring  Other  \n",
      "0      NaN    NaN  \n",
      "1      NaN    NaN  \n",
      "2      NaN    NaN  \n",
      "3      NaN    NaN  \n",
      "4      NaN    NaN  \n"
     ]
    }
   ],
   "source": [
    "print(per_capita_df.head())"
   ]
  },
  {
   "cell_type": "code",
   "execution_count": 14,
   "id": "40bccdc6",
   "metadata": {},
   "outputs": [],
   "source": [
    "# Dropping rows with missing values\n",
    "emissions_df.dropna(inplace=True)\n",
    "per_capita_df.dropna(inplace=True)"
   ]
  },
  {
   "cell_type": "code",
   "execution_count": 15,
   "id": "f0c8eaa4",
   "metadata": {},
   "outputs": [],
   "source": [
    "# Convert 'Year' to numeric\n",
    "emissions_df['Year'] = pd.to_numeric(emissions_df['Year'])\n",
    "per_capita_df['Year'] = pd.to_numeric(per_capita_df['Year'])"
   ]
  },
  {
   "cell_type": "code",
   "execution_count": 16,
   "id": "a5ebbb25",
   "metadata": {},
   "outputs": [],
   "source": [
    "# Aggregating data\n",
    "agg_df = emissions_df.groupby(['Country','Year']).sum().reset_index()\n",
    "\n",
    "# Calculating percentages of emissions from each source\n",
    "agg_df['Coal_pct'] = agg_df['Coal']/agg_df['Total']*100\n",
    "agg_df['Oil_pct'] = agg_df['Oil']/agg_df['Total']*100\n",
    "agg_df['Gas_pct'] = agg_df['Gas']/agg_df['Total']*100\n",
    "agg_df['Cement_pct'] = agg_df['Cement']/agg_df['Total']*100\n"
   ]
  },
  {
   "cell_type": "code",
   "execution_count": 21,
   "id": "9a2c2a1a",
   "metadata": {},
   "outputs": [
    {
     "name": "stdout",
     "output_type": "stream",
     "text": [
      "0       51.007621\n",
      "1       52.260444\n",
      "2       52.737439\n",
      "3       51.960500\n",
      "4       51.541715\n",
      "          ...    \n",
      "1614    10.101218\n",
      "1615     8.764193\n",
      "1616     6.720352\n",
      "1617     6.991106\n",
      "1618     6.831476\n",
      "Name: Coal_pct, Length: 1619, dtype: float64\n"
     ]
    }
   ],
   "source": [
    "print(agg_df['Coal_pct'])"
   ]
  },
  {
   "cell_type": "code",
   "execution_count": 22,
   "id": "6c4c542e",
   "metadata": {},
   "outputs": [
    {
     "name": "stdout",
     "output_type": "stream",
     "text": [
      "0       31.939875\n",
      "1       31.569435\n",
      "2       30.899472\n",
      "3       31.289649\n",
      "4       31.299001\n",
      "          ...    \n",
      "1614    45.138215\n",
      "1615    45.581658\n",
      "1616    46.331459\n",
      "1617    44.130298\n",
      "1618    44.441387\n",
      "Name: Oil_pct, Length: 1619, dtype: float64\n"
     ]
    }
   ],
   "source": [
    "print(agg_df['Oil_pct'])"
   ]
  },
  {
   "cell_type": "code",
   "execution_count": 23,
   "id": "497a27f5",
   "metadata": {},
   "outputs": [
    {
     "name": "stdout",
     "output_type": "stream",
     "text": [
      "0       12.386950\n",
      "1       11.729123\n",
      "2       11.939348\n",
      "3       12.348093\n",
      "4       12.608934\n",
      "          ...    \n",
      "1614    41.742664\n",
      "1615    42.526365\n",
      "1616    43.679067\n",
      "1617    45.797410\n",
      "1618    45.812084\n",
      "Name: Gas_pct, Length: 1619, dtype: float64\n"
     ]
    }
   ],
   "source": [
    "print(agg_df['Gas_pct'])"
   ]
  },
  {
   "cell_type": "code",
   "execution_count": 24,
   "id": "4c6ffc39",
   "metadata": {},
   "outputs": [
    {
     "name": "stdout",
     "output_type": "stream",
     "text": [
      "0       1.244947\n",
      "1       1.138715\n",
      "2       1.027469\n",
      "3       1.040154\n",
      "4       1.186352\n",
      "          ...   \n",
      "1614    1.138401\n",
      "1615    1.149225\n",
      "1616    1.219591\n",
      "1617    1.195258\n",
      "1618    1.124564\n",
      "Name: Cement_pct, Length: 1619, dtype: float64\n"
     ]
    }
   ],
   "source": [
    "print(agg_df['Cement_pct'])"
   ]
  },
  {
   "cell_type": "code",
   "execution_count": 25,
   "id": "b9843294",
   "metadata": {},
   "outputs": [
    {
     "name": "stdout",
     "output_type": "stream",
     "text": [
      "     Year         Total\n",
      "0    1904    882.057539\n",
      "1    1905    986.482442\n",
      "2    1906   1035.471247\n",
      "3    1907   1203.861422\n",
      "4    1908   1052.812895\n",
      "..    ...           ...\n",
      "113  2017  61249.812593\n",
      "114  2018  62429.532854\n",
      "115  2019  62651.759362\n",
      "116  2020  59860.223990\n",
      "117  2021  62985.063806\n",
      "\n",
      "[118 rows x 2 columns]\n"
     ]
    }
   ],
   "source": [
    "# Trends in total emissions over the years\n",
    "trends_df = agg_df.groupby('Year')['Total'].sum().reset_index()\n",
    "\n",
    "print(trends_df)\n"
   ]
  },
  {
   "cell_type": "code",
   "execution_count": 19,
   "id": "c23f13cf",
   "metadata": {},
   "outputs": [
    {
     "name": "stdout",
     "output_type": "stream",
     "text": [
      "          Country          Total\n",
      "0          Global  951517.271726\n",
      "1             USA  408861.973286\n",
      "2           China  244649.987304\n",
      "3          Russia   53566.614169\n",
      "4           Japan   39055.308550\n",
      "5         Germany   27550.903693\n",
      "6          Canada   17407.228484\n",
      "7  United Kingdom   16406.061286\n",
      "8     South Korea   16059.181452\n",
      "9           Italy   13631.578127\n"
     ]
    }
   ],
   "source": [
    "# To see the top 10 emitters\n",
    "top_emitters = agg_df.groupby('Country')['Total'].sum().nlargest(10).reset_index()\n",
    "\n",
    "print(top_emitters)"
   ]
  },
  {
   "cell_type": "code",
   "execution_count": 29,
   "id": "06087d79",
   "metadata": {},
   "outputs": [
    {
     "name": "stdout",
     "output_type": "stream",
     "text": [
      "     Year      Total\n",
      "0    1904  10.693551\n",
      "1    1905  11.723323\n",
      "2    1906  12.072651\n",
      "3    1907  13.783778\n",
      "4    1908  11.822053\n",
      "..    ...        ...\n",
      "113  2017   7.971977\n",
      "114  2018   7.910390\n",
      "115  2019   7.573248\n",
      "116  2020   6.942011\n",
      "117  2021   7.161781\n",
      "\n",
      "[118 rows x 2 columns]\n"
     ]
    }
   ],
   "source": [
    "# Per capita trend analsis\n",
    "per_capita_trends = per_capita_df.groupby('Year')['Total'].mean().reset_index()\n",
    "\n",
    "print(per_capita_trends)"
   ]
  }
 ],
 "metadata": {
  "kernelspec": {
   "display_name": "Python 3 (ipykernel)",
   "language": "python",
   "name": "python3"
  },
  "language_info": {
   "codemirror_mode": {
    "name": "ipython",
    "version": 3
   },
   "file_extension": ".py",
   "mimetype": "text/x-python",
   "name": "python",
   "nbconvert_exporter": "python",
   "pygments_lexer": "ipython3",
   "version": "3.12.5"
  }
 },
 "nbformat": 4,
 "nbformat_minor": 5
}
