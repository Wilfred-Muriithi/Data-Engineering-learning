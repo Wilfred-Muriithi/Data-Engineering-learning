{
 "cells": [
  {
   "cell_type": "code",
   "execution_count": 1,
   "id": "2b3ab054-ed4d-4fcb-aae8-ce57f76d84c1",
   "metadata": {},
   "outputs": [
    {
     "name": "stdout",
     "output_type": "stream",
     "text": [
      "       Country ISO 3166-1 alpha-3  Year  Total  Coal  Oil  Gas  Cement  \\\n",
      "0  Afghanistan                AFG  1750    0.0   NaN  NaN  NaN     NaN   \n",
      "1  Afghanistan                AFG  1751    0.0   NaN  NaN  NaN     NaN   \n",
      "2  Afghanistan                AFG  1752    0.0   NaN  NaN  NaN     NaN   \n",
      "3  Afghanistan                AFG  1753    0.0   NaN  NaN  NaN     NaN   \n",
      "4  Afghanistan                AFG  1754    0.0   NaN  NaN  NaN     NaN   \n",
      "\n",
      "   Flaring  Other  Per Capita  \n",
      "0      NaN    NaN         NaN  \n",
      "1      NaN    NaN         NaN  \n",
      "2      NaN    NaN         NaN  \n",
      "3      NaN    NaN         NaN  \n",
      "4      NaN    NaN         NaN  \n",
      "       Country ISO 3166-1 alpha-3  Year  Total  Coal  Oil  Gas  Cement  \\\n",
      "0  Afghanistan                AFG  1750    NaN   NaN  NaN  NaN     NaN   \n",
      "1  Afghanistan                AFG  1751    NaN   NaN  NaN  NaN     NaN   \n",
      "2  Afghanistan                AFG  1752    NaN   NaN  NaN  NaN     NaN   \n",
      "3  Afghanistan                AFG  1753    NaN   NaN  NaN  NaN     NaN   \n",
      "4  Afghanistan                AFG  1754    NaN   NaN  NaN  NaN     NaN   \n",
      "\n",
      "   Flaring  Other  \n",
      "0      NaN    NaN  \n",
      "1      NaN    NaN  \n",
      "2      NaN    NaN  \n",
      "3      NaN    NaN  \n",
      "4      NaN    NaN  \n"
     ]
    }
   ],
   "source": [
    "import pandas as pd\n",
    "\n",
    "# Load the datasets\n",
    "emissions_df = pd.read_csv('GCB2022v27_MtCO2_flat.csv')\n",
    "per_capita_df = pd.read_csv('GCB2022v27_percapita_flat.csv')\n",
    "\n",
    "# Display the first few rows\n",
    "print(emissions_df.head())\n",
    "print(per_capita_df.head())\n"
   ]
  },
  {
   "cell_type": "code",
   "execution_count": null,
   "id": "f9f699e7-a098-4f49-8cec-b8c2d4de1632",
   "metadata": {},
   "outputs": [],
   "source": []
  }
 ],
 "metadata": {
  "kernelspec": {
   "display_name": "Python 3 (ipykernel)",
   "language": "python",
   "name": "python3"
  },
  "language_info": {
   "codemirror_mode": {
    "name": "ipython",
    "version": 3
   },
   "file_extension": ".py",
   "mimetype": "text/x-python",
   "name": "python",
   "nbconvert_exporter": "python",
   "pygments_lexer": "ipython3",
   "version": "3.12.5"
  }
 },
 "nbformat": 4,
 "nbformat_minor": 5
}
