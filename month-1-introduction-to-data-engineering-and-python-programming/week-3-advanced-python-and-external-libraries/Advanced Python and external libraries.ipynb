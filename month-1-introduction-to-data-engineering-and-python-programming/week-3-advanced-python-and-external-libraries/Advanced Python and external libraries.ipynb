{
 "cells": [
  {
   "cell_type": "markdown",
   "id": "d55c7dab-718a-4606-91ec-e3b242d6aea2",
   "metadata": {},
   "source": [
    "# Functions and Lambda Expressions\n",
    "\n",
    "# Functions:\n",
    "#Functions are reusable blocks of code that perform a specific task.\n"
   ]
  },
  {
   "cell_type": "code",
   "execution_count": 1,
   "id": "b4a90466-33e6-492a-a0d5-1bf5212d5d1e",
   "metadata": {},
   "outputs": [
    {
     "name": "stdout",
     "output_type": "stream",
     "text": [
      "12\n"
     ]
    }
   ],
   "source": [
    "def multiply(a, b):\n",
    "    return a * b\n",
    "\n",
    "print(multiply(3, 4))  # Output: 12\n"
   ]
  },
  {
   "cell_type": "code",
   "execution_count": null,
   "id": "ec572d1a-41f4-4047-9b80-9d699f9d2db3",
   "metadata": {},
   "outputs": [],
   "source": []
  }
 ],
 "metadata": {
  "kernelspec": {
   "display_name": "Python 3 (ipykernel)",
   "language": "python",
   "name": "python3"
  },
  "language_info": {
   "codemirror_mode": {
    "name": "ipython",
    "version": 3
   },
   "file_extension": ".py",
   "mimetype": "text/x-python",
   "name": "python",
   "nbconvert_exporter": "python",
   "pygments_lexer": "ipython3",
   "version": "3.12.5"
  }
 },
 "nbformat": 4,
 "nbformat_minor": 5
}
